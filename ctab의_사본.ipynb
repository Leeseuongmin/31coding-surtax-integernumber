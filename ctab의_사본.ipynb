{
  "nbformat": 4,
  "nbformat_minor": 0,
  "metadata": {
    "colab": {
      "provenance": [],
      "authorship_tag": "ABX9TyOTwoyT/jvydiXn2OT5as/W",
      "include_colab_link": true
    },
    "kernelspec": {
      "name": "python3",
      "display_name": "Python 3"
    },
    "language_info": {
      "name": "python"
    }
  },
  "cells": [
    {
      "cell_type": "markdown",
      "metadata": {
        "id": "view-in-github",
        "colab_type": "text"
      },
      "source": [
        "<a href=\"https://colab.research.google.com/github/Leeseuongmin/31coding-surtax-integernumber/blob/main/ctab%EC%9D%98_%EC%82%AC%EB%B3%B8.ipynb\" target=\"_parent\"><img src=\"https://colab.research.google.com/assets/colab-badge.svg\" alt=\"Open In Colab\"/></a>"
      ]
    },
    {
      "cell_type": "markdown",
      "source": [
        "일한 시간과 시급을 예상하여 출력하는 코드"
      ],
      "metadata": {
        "id": "qLdhJMNxnvp5"
      }
    },
    {
      "cell_type": "code",
      "source": [
        "hours_worked = int(input(\"일한 시간을 일력하시오.: \"))\n",
        "pay_late = int(input(\"시급을 이력하시오.(23년 시급 9620):\"))\n",
        "day_worked = int(input(\"일한 날짜를 압력하시오.:\"))\n",
        "day_moth = hours_worked * day_worked\n",
        "monthly_pay = hours_worked * pay_late * day_worked\n",
        "print(f'일한시간은 {hours_worked}시간 이며, 시급은 {pay_late}원 이고, 월급여는 {monthiy_pay}입니다.' )\n"
      ],
      "metadata": {
        "id": "OCNIbyGapOyM"
      },
      "execution_count": null,
      "outputs": []
    },
    {
      "cell_type": "markdown",
      "source": [
        "2. 환전하는 코드를 작성\n",
        "\n",
        " - 변수는 won,usd, exchange\n",
        " - 계산 won * usd"
      ],
      "metadata": {
        "id": "frdj4h8_umz1"
      }
    },
    {
      "cell_type": "code",
      "source": [
        "from io import UnsupportedOperation\n",
        "usd = int(input(\"환전할 달러을 입력: \"))\n",
        "won = int(input(\"달러의 환율금액 입력(231031: 1372원)\"))\n",
        "exchange = won * usd\n",
        "print(f' 환전하고 싶은 {usd}달러는 환율 {won}으로 계산하면,  {exchange}원 입니다.')"
      ],
      "metadata": {
        "colab": {
          "base_uri": "https://localhost:8080/"
        },
        "id": "j6jr-aLEvEcs",
        "outputId": "cb7dc1e6-8117-4c74-e887-8dceb90df0e1"
      },
      "execution_count": null,
      "outputs": [
        {
          "output_type": "stream",
          "name": "stdout",
          "text": [
            "환전할 달러을 입력: 500\n",
            "달러의 환율금액 입력(231031: 1372원)1372\n",
            " 환전하고 싶은 500달러는 환율 1372으로 계산하면,  686000원 입니다.\n"
          ]
        }
      ]
    },
    {
      "cell_type": "markdown",
      "source": [
        "3.화씨를 섭씨로 썹씨를 하씨로 변환하는 코드\n",
        " - 화씨를 섭씨로\"F = ℃ * 1.8 + 32\n",
        " - 썹씨를 하씨로 ℃ = (\"F - 32) / 1.8\n",
        " - 변수 : 화씨 fahrenheit, 섭씨 ceisious"
      ],
      "metadata": {
        "id": "RRp4ptegyJns"
      }
    },
    {
      "cell_type": "code",
      "source": [
        "fahrenheit = int(input(\"화씨를 입력히시오.: \"))\n",
        "ceisious = (fahrenheit - 32)/ 1.8\n",
        "print(ceisious)"
      ],
      "metadata": {
        "id": "hKEWsCiu0Dss"
      },
      "execution_count": null,
      "outputs": []
    },
    {
      "cell_type": "code",
      "source": [
        "ceisious =float(input(\"섭씨를 일력하시오.: \"))\n",
        "fahrenheit = ceisious * 1.8 + 32\n",
        "print(fahrenheit)"
      ],
      "metadata": {
        "colab": {
          "base_uri": "https://localhost:8080/"
        },
        "id": "A2OlqkAz0xYd",
        "outputId": "c6f094c1-f5bc-49eb-9cb3-de82dca9361c"
      },
      "execution_count": null,
      "outputs": [
        {
          "output_type": "stream",
          "name": "stdout",
          "text": [
            "섭씨를 일력하시오.: 37.7777777777778\n",
            "100.00000000000004\n"
          ]
        }
      ]
    },
    {
      "cell_type": "markdown",
      "source": [
        "4. 사용자로부터 2개의 정수를 받아서 합계를 출력하시오.\n",
        "\n",
        "- 정수 x\n",
        "- 정수 y"
      ],
      "metadata": {
        "id": "R9HmM-VYwdgr"
      }
    },
    {
      "cell_type": "code",
      "source": [
        "print(\"정수 2개를 입력하시오\")\n",
        "x = int(input(\"x의 값을 입력하시오.: \"))\n",
        "y = int(input(\"y의 값을 입력하시오.: \"))\n",
        "sum = x + y\n",
        "print(sum)\n",
        "print(f'{x} + {y} 의 값은 {sum}이다.')"
      ],
      "metadata": {
        "colab": {
          "base_uri": "https://localhost:8080/"
        },
        "id": "YUZHBlGUw5S6",
        "outputId": "5b22ecfe-70f8-434a-be81-c993df010068"
      },
      "execution_count": 1,
      "outputs": [
        {
          "output_type": "stream",
          "name": "stdout",
          "text": [
            "정수 2개를 입력하시오\n",
            "x의 값을 입력하시오.: 7\n",
            "y의 값을 입력하시오.: 27\n",
            "34\n",
            "7 + 27 의 값은 34이다.\n"
          ]
        }
      ]
    },
    {
      "cell_type": "markdown",
      "source": [
        "5. 부가세를 계산하시오.\n",
        "- 상품의 가격 price\n",
        "- 부가세 vat"
      ],
      "metadata": {
        "id": "Qf0D4hwnyHip"
      }
    },
    {
      "cell_type": "code",
      "source": [
        "print(\"상품의 가격을 입력하시오.; \")\n",
        "price = int(input(\"상품의 가격\"))\n",
        "vat = price * 0.1\n",
        "print(vat)\n",
        "print(f' 상품의 가격은 {price}이며, 부가세는 {vat}이다.')\n"
      ],
      "metadata": {
        "colab": {
          "base_uri": "https://localhost:8080/"
        },
        "id": "adfWgl_ZyZ3S",
        "outputId": "b2f11d1b-b6f0-4693-9033-be961b3f4bb5"
      },
      "execution_count": 2,
      "outputs": [
        {
          "output_type": "stream",
          "name": "stdout",
          "text": [
            "상품의 가격을 입력하시오.; \n",
            "상품의 가격3000\n",
            "300.0\n",
            " 상품의 가격은 3000이며, 부가세는 300.0이다.\n"
          ]
        }
      ]
    }
  ]
}